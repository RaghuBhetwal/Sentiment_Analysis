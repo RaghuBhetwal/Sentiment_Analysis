{
 "cells": [
  {
   "cell_type": "markdown",
   "metadata": {},
   "source": [
    "# BERT"
   ]
  },
  {
   "cell_type": "code",
   "execution_count": 92,
   "metadata": {
    "_cell_guid": "b1076dfc-b9ad-4769-8c92-a6c4dae69d19",
    "_uuid": "8f2839f25d086af736a60e9eeb907d3b93b6e0e5",
    "execution": {
     "iopub.execute_input": "2024-01-11T23:20:06.688029Z",
     "iopub.status.busy": "2024-01-11T23:20:06.687560Z",
     "iopub.status.idle": "2024-01-11T23:20:06.708770Z",
     "shell.execute_reply": "2024-01-11T23:20:06.707533Z",
     "shell.execute_reply.started": "2024-01-11T23:20:06.687993Z"
    }
   },
   "outputs": [
    {
     "name": "stdout",
     "output_type": "stream",
     "text": [
      "/kaggle/input/my-data/Data.xlsx\n",
      "/kaggle/input/my-data-sentiment/data.csv\n"
     ]
    }
   ],
   "source": [
    "# This Python 3 environment comes with many helpful analytics libraries installed\n",
    "# It is defined by the kaggle/python Docker image: https://github.com/kaggle/docker-python\n",
    "# For example, here's several helpful packages to load\n",
    "\n",
    "import numpy as np # linear algebra\n",
    "import pandas as pd # data processing, CSV file I/O (e.g. pd.read_csv)\n",
    "\n",
    "\n",
    "# Input data files are available in the read-only \"../input/\" directory\n",
    "# For example, running this (by clicking run or pressing Shift+Enter) will list all files under the input directory\n",
    "\n",
    "import os\n",
    "for dirname, _, filenames in os.walk('/kaggle/input'):\n",
    "    for filename in filenames:\n",
    "        print(os.path.join(dirname, filename))\n",
    "\n",
    "# You can write up to 20GB to the current directory (/kaggle/working/) that gets preserved as output when you create a version using \"Save & Run All\" \n",
    "# You can also write temporary files to /kaggle/temp/, but they won't be saved outside of the current session"
   ]
  },
  {
   "cell_type": "code",
   "execution_count": 93,
   "metadata": {
    "execution": {
     "iopub.execute_input": "2024-01-11T23:20:06.711704Z",
     "iopub.status.busy": "2024-01-11T23:20:06.711242Z",
     "iopub.status.idle": "2024-01-11T23:20:06.720477Z",
     "shell.execute_reply": "2024-01-11T23:20:06.719104Z",
     "shell.execute_reply.started": "2024-01-11T23:20:06.711664Z"
    }
   },
   "outputs": [],
   "source": [
    "\n",
    "import pandas as pd\n",
    "import torch\n",
    "import seaborn as sns\n",
    "import matplotlib.pyplot as plt\n",
    "\n",
    "from torch.utils.data import DataLoader, TensorDataset\n",
    "from transformers import BertTokenizer, BertForSequenceClassification\n",
    "from sklearn.model_selection import StratifiedKFold\n",
    "import torch.nn as nn\n",
    "from tqdm import tqdm\n",
    "import time\n",
    "from torch.optim import AdamW\n",
    "from sklearn.model_selection import StratifiedKFold\n",
    "from nltk.tokenize import word_tokenize\n",
    "from nltk.corpus import stopwords\n",
    "from nltk.stem import WordNetLemmatizer\n",
    "import string\n",
    "import numpy as np\n",
    "import nltk\n",
    "import warnings  # Import the warnings module\n"
   ]
  },
  {
   "cell_type": "code",
   "execution_count": 94,
   "metadata": {
    "execution": {
     "iopub.execute_input": "2024-01-11T23:20:06.722654Z",
     "iopub.status.busy": "2024-01-11T23:20:06.722223Z",
     "iopub.status.idle": "2024-01-11T23:20:06.743164Z",
     "shell.execute_reply": "2024-01-11T23:20:06.741924Z",
     "shell.execute_reply.started": "2024-01-11T23:20:06.722616Z"
    }
   },
   "outputs": [],
   "source": [
    "\n",
    "file_path = '/kaggle/input/data/data.csv'\n",
    "df = pd.read_csv(file_path, delimiter=',', encoding='latin1')\n"
   ]
  },
  {
   "cell_type": "code",
   "execution_count": 95,
   "metadata": {
    "execution": {
     "iopub.execute_input": "2024-01-11T23:20:06.745745Z",
     "iopub.status.busy": "2024-01-11T23:20:06.745346Z",
     "iopub.status.idle": "2024-01-11T23:20:06.752166Z",
     "shell.execute_reply": "2024-01-11T23:20:06.751090Z",
     "shell.execute_reply.started": "2024-01-11T23:20:06.745713Z"
    }
   },
   "outputs": [
    {
     "name": "stdout",
     "output_type": "stream",
     "text": [
      "Index(['Comments', 'Sentiment'], dtype='object')\n"
     ]
    }
   ],
   "source": [
    "# column names\n",
    "print(df.columns)"
   ]
  },
  {
   "cell_type": "code",
   "execution_count": 96,
   "metadata": {
    "execution": {
     "iopub.execute_input": "2024-01-11T23:20:06.754245Z",
     "iopub.status.busy": "2024-01-11T23:20:06.753801Z",
     "iopub.status.idle": "2024-01-11T23:20:06.772273Z",
     "shell.execute_reply": "2024-01-11T23:20:06.770925Z",
     "shell.execute_reply.started": "2024-01-11T23:20:06.754205Z"
    }
   },
   "outputs": [
    {
     "name": "stdout",
     "output_type": "stream",
     "text": [
      "Class Distribution:\n",
      "Sentiment\n",
      "negative    610\n",
      "neutral     604\n",
      "positive    598\n",
      "Name: count, dtype: int64\n",
      "Total: 1812\n"
     ]
    }
   ],
   "source": [
    "#Distribution of class \n",
    "class_distribution = df['Sentiment'].value_counts()\n",
    "print(\"Class Distribution:\")\n",
    "print(class_distribution)\n",
    "\n",
    "total_sentiments = len(df['Sentiment'])\n",
    "print(\"Total:\", total_sentiments)\n"
   ]
  },
  {
   "cell_type": "code",
   "execution_count": 97,
   "metadata": {
    "execution": {
     "iopub.execute_input": "2024-01-11T23:20:06.774892Z",
     "iopub.status.busy": "2024-01-11T23:20:06.774482Z",
     "iopub.status.idle": "2024-01-11T23:20:06.786746Z",
     "shell.execute_reply": "2024-01-11T23:20:06.785525Z",
     "shell.execute_reply.started": "2024-01-11T23:20:06.774818Z"
    }
   },
   "outputs": [
    {
     "name": "stdout",
     "output_type": "stream",
     "text": [
      "Null Values Before:\n",
      "Comments     0\n",
      "Sentiment    0\n",
      "dtype: int64\n"
     ]
    }
   ],
   "source": [
    "#Checking NUll\n",
    "print(\"Null Values Before:\")\n",
    "print(df.isnull().sum())"
   ]
  },
  {
   "cell_type": "code",
   "execution_count": 98,
   "metadata": {
    "execution": {
     "iopub.execute_input": "2024-01-11T23:20:06.789034Z",
     "iopub.status.busy": "2024-01-11T23:20:06.788605Z",
     "iopub.status.idle": "2024-01-11T23:20:06.804997Z",
     "shell.execute_reply": "2024-01-11T23:20:06.803621Z",
     "shell.execute_reply.started": "2024-01-11T23:20:06.789004Z"
    }
   },
   "outputs": [
    {
     "name": "stdout",
     "output_type": "stream",
     "text": [
      "[nltk_data] Downloading package punkt to /usr/share/nltk_data...\n",
      "[nltk_data]   Package punkt is already up-to-date!\n",
      "[nltk_data] Downloading package stopwords to /usr/share/nltk_data...\n",
      "[nltk_data]   Package stopwords is already up-to-date!\n",
      "[nltk_data] Downloading package wordnet to /usr/share/nltk_data...\n",
      "[nltk_data]   Package wordnet is already up-to-date!\n"
     ]
    },
    {
     "data": {
      "text/plain": [
       "True"
      ]
     },
     "execution_count": 98,
     "metadata": {},
     "output_type": "execute_result"
    }
   ],
   "source": [
    "import nltk\n",
    "nltk.download('punkt')\n",
    "nltk.download('stopwords')\n",
    "nltk.download('wordnet')"
   ]
  },
  {
   "cell_type": "code",
   "execution_count": 99,
   "metadata": {
    "execution": {
     "iopub.execute_input": "2024-01-11T23:20:06.808214Z",
     "iopub.status.busy": "2024-01-11T23:20:06.807225Z",
     "iopub.status.idle": "2024-01-11T23:20:06.818103Z",
     "shell.execute_reply": "2024-01-11T23:20:06.816740Z",
     "shell.execute_reply.started": "2024-01-11T23:20:06.808164Z"
    }
   },
   "outputs": [
    {
     "name": "stderr",
     "output_type": "stream",
     "text": [
      "/opt/conda/lib/python3.10/site-packages/nltk/corpus/reader/wordlist.py:28: ResourceWarning: unclosed file <_io.BufferedReader name='/usr/share/nltk_data/corpora/stopwords/english'>\n",
      "  return concat([self.open(f).read() for f in fileids])\n",
      "ResourceWarning: Enable tracemalloc to get the object allocation traceback\n"
     ]
    }
   ],
   "source": [
    "# Function to clean and preprocess text\n",
    "stop_words = set(stopwords.words('english'))\n",
    "lemmatizer = WordNetLemmatizer()"
   ]
  },
  {
   "cell_type": "code",
   "execution_count": 100,
   "metadata": {
    "execution": {
     "iopub.execute_input": "2024-01-11T23:20:06.820463Z",
     "iopub.status.busy": "2024-01-11T23:20:06.820074Z",
     "iopub.status.idle": "2024-01-11T23:20:06.827345Z",
     "shell.execute_reply": "2024-01-11T23:20:06.826175Z",
     "shell.execute_reply.started": "2024-01-11T23:20:06.820433Z"
    }
   },
   "outputs": [],
   "source": [
    "\n",
    "# def preprocess_text(text):\n",
    "#     # Lowercasing\n",
    "#     text = text.lower()\n",
    "#     # Remove punctuation\n",
    "#     text = ''.join([char for char in text if char not in string.punctuation])\n",
    "#     # Tokenize\n",
    "#     tokens = word_tokenize(text)\n",
    "#     # Remove stopwords\n",
    "#     tokens = [word for word in tokens if word not in stop_words]\n",
    "#     # Lemmatization\n",
    "#     tokens = [lemmatizer.lemmatize(word) for word in tokens]\n",
    "#     # Remove emojis\n",
    "#     tokens = [word for word in tokens if word.isalnum()]  # Removes emojis and special characters\n",
    "#     return ' '.join(tokens)\n"
   ]
  },
  {
   "cell_type": "code",
   "execution_count": 101,
   "metadata": {
    "execution": {
     "iopub.execute_input": "2024-01-11T23:20:06.829696Z",
     "iopub.status.busy": "2024-01-11T23:20:06.829351Z",
     "iopub.status.idle": "2024-01-11T23:20:06.841139Z",
     "shell.execute_reply": "2024-01-11T23:20:06.839784Z",
     "shell.execute_reply.started": "2024-01-11T23:20:06.829655Z"
    }
   },
   "outputs": [],
   "source": [
    "# Convert string labels to numerical values\n",
    "label_mapping = {'negative': 0, 'neutral': 1, 'positive': 2}\n",
    "df['Sentiment'] = df['Sentiment'].map(label_mapping)"
   ]
  },
  {
   "cell_type": "code",
   "execution_count": 102,
   "metadata": {
    "execution": {
     "iopub.execute_input": "2024-01-11T23:20:06.843191Z",
     "iopub.status.busy": "2024-01-11T23:20:06.842754Z",
     "iopub.status.idle": "2024-01-11T23:20:06.993476Z",
     "shell.execute_reply": "2024-01-11T23:20:06.992406Z",
     "shell.execute_reply.started": "2024-01-11T23:20:06.843152Z"
    }
   },
   "outputs": [],
   "source": [
    "# Tokenization and Formatting for BERT\n",
    "tokenizer = BertTokenizer.from_pretrained('bert-base-uncased')"
   ]
  },
  {
   "cell_type": "code",
   "execution_count": 103,
   "metadata": {
    "execution": {
     "iopub.execute_input": "2024-01-11T23:20:06.996573Z",
     "iopub.status.busy": "2024-01-11T23:20:06.996206Z",
     "iopub.status.idle": "2024-01-11T23:20:07.001798Z",
     "shell.execute_reply": "2024-01-11T23:20:07.000626Z",
     "shell.execute_reply.started": "2024-01-11T23:20:06.996541Z"
    }
   },
   "outputs": [],
   "source": [
    "# Initialize cross-validation\n",
    "num_splits = 5\n",
    "skf = StratifiedKFold(n_splits=num_splits, shuffle=True, random_state=42)"
   ]
  },
  {
   "cell_type": "code",
   "execution_count": 104,
   "metadata": {
    "execution": {
     "iopub.execute_input": "2024-01-11T23:20:07.004104Z",
     "iopub.status.busy": "2024-01-11T23:20:07.003261Z",
     "iopub.status.idle": "2024-01-11T23:20:07.015444Z",
     "shell.execute_reply": "2024-01-11T23:20:07.014286Z",
     "shell.execute_reply.started": "2024-01-11T23:20:07.004069Z"
    }
   },
   "outputs": [],
   "source": [
    "from transformers import logging\n",
    "logging.set_verbosity_error()\n"
   ]
  },
  {
   "cell_type": "code",
   "execution_count": 105,
   "metadata": {
    "execution": {
     "iopub.execute_input": "2024-01-11T23:20:07.017557Z",
     "iopub.status.busy": "2024-01-11T23:20:07.017186Z",
     "iopub.status.idle": "2024-01-11T23:20:07.267527Z",
     "shell.execute_reply": "2024-01-11T23:20:07.266555Z",
     "shell.execute_reply.started": "2024-01-11T23:20:07.017529Z"
    }
   },
   "outputs": [],
   "source": [
    "# Initialize the BERT model without loading the classifier weights\n",
    "model = BertForSequenceClassification.from_pretrained('bert-base-uncased', num_labels=3, from_tf=False)\n",
    "model.classifier =  nn.Sequential(\n",
    "    nn.Dropout(0.6),  # dropout rate\n",
    "    nn.Linear(model.config.hidden_size, 3)\n",
    ")"
   ]
  },
  {
   "cell_type": "code",
   "execution_count": 106,
   "metadata": {
    "execution": {
     "iopub.execute_input": "2024-01-11T23:20:07.269134Z",
     "iopub.status.busy": "2024-01-11T23:20:07.268793Z",
     "iopub.status.idle": "2024-01-11T23:20:07.277681Z",
     "shell.execute_reply": "2024-01-11T23:20:07.276620Z",
     "shell.execute_reply.started": "2024-01-11T23:20:07.269107Z"
    }
   },
   "outputs": [],
   "source": [
    "# Loss function and optimizer with weight decay (L2 regularization)\n",
    "criterion = nn.CrossEntropyLoss()\n",
    "optimizer = AdamW(model.parameters(), lr=5e-5, weight_decay=0.01)\n"
   ]
  },
  {
   "cell_type": "code",
   "execution_count": 107,
   "metadata": {
    "execution": {
     "iopub.execute_input": "2024-01-11T23:20:07.280624Z",
     "iopub.status.busy": "2024-01-11T23:20:07.279724Z",
     "iopub.status.idle": "2024-01-11T23:20:07.288204Z",
     "shell.execute_reply": "2024-01-11T23:20:07.287220Z",
     "shell.execute_reply.started": "2024-01-11T23:20:07.280577Z"
    }
   },
   "outputs": [],
   "source": [
    "# Move model to GPU\n",
    "device = torch.device('cuda' if torch.cuda.is_available() else 'cpu')\n"
   ]
  },
  {
   "cell_type": "code",
   "execution_count": 108,
   "metadata": {
    "execution": {
     "iopub.execute_input": "2024-01-11T23:20:07.291666Z",
     "iopub.status.busy": "2024-01-11T23:20:07.291255Z",
     "iopub.status.idle": "2024-01-11T23:20:07.305918Z",
     "shell.execute_reply": "2024-01-11T23:20:07.304865Z",
     "shell.execute_reply.started": "2024-01-11T23:20:07.291636Z"
    }
   },
   "outputs": [],
   "source": [
    "# Training loop with cross-validation and validation loss\n",
    "num_epochs = 10\n",
    "history = {'train_loss': [], 'val_loss': [], 'test_loss': [], 'train_acc': [], 'val_acc': [], 'test_acc': []}\n",
    "early_stopping = {'epoch': 0, 'best_loss': np.inf, 'counter': 0, 'patience': 3}\n"
   ]
  },
  {
   "cell_type": "code",
   "execution_count": 109,
   "metadata": {
    "execution": {
     "iopub.execute_input": "2024-01-11T23:20:07.307829Z",
     "iopub.status.busy": "2024-01-11T23:20:07.307383Z",
     "iopub.status.idle": "2024-01-11T23:20:07.320252Z",
     "shell.execute_reply": "2024-01-11T23:20:07.319107Z",
     "shell.execute_reply.started": "2024-01-11T23:20:07.307786Z"
    }
   },
   "outputs": [],
   "source": [
    "# Initialize empty lists for overall class distribution\n",
    "overall_train_labels = []\n",
    "overall_val_labels = []\n",
    "overall_test_labels = []\n"
   ]
  },
  {
   "cell_type": "code",
   "execution_count": null,
   "metadata": {},
   "outputs": [],
   "source": [
    "from sklearn.exceptions import DeprecationWarning\n",
    "\n",
    "warnings.filterwarnings(\"ignore\", category=DeprecationWarning)\n"
   ]
  },
  {
   "cell_type": "code",
   "execution_count": 111,
   "metadata": {
    "execution": {
     "iopub.execute_input": "2024-01-11T23:21:49.273694Z",
     "iopub.status.busy": "2024-01-11T23:21:49.273275Z",
     "iopub.status.idle": "2024-01-11T23:27:40.201178Z",
     "shell.execute_reply": "2024-01-11T23:27:40.200094Z",
     "shell.execute_reply.started": "2024-01-11T23:21:49.273661Z"
    }
   },
   "outputs": [
    {
     "name": "stdout",
     "output_type": "stream",
     "text": [
      "\n",
      "Fold 1/5\n"
     ]
    },
    {
     "name": "stderr",
     "output_type": "stream",
     "text": [
      "Training - Epoch 1: 100%|██████████| 290/290 [00:20<00:00, 14.14it/s, Train Loss=0.857]\n",
      "Validation - Epoch 1: 100%|██████████| 73/73 [00:02<00:00, 26.98it/s, Validation Loss=0.512]\n"
     ]
    },
    {
     "name": "stdout",
     "output_type": "stream",
     "text": [
      "Epoch 1/10 => Train Loss: 0.8567, Train Acc: 0.6091, Validation Loss: 0.5120, Validation Acc: 0.8069\n"
     ]
    },
    {
     "name": "stderr",
     "output_type": "stream",
     "text": [
      "Training - Epoch 2: 100%|██████████| 290/290 [00:20<00:00, 14.21it/s, Train Loss=0.434]\n",
      "Validation - Epoch 2: 100%|██████████| 73/73 [00:02<00:00, 27.01it/s, Validation Loss=0.551]\n"
     ]
    },
    {
     "name": "stdout",
     "output_type": "stream",
     "text": [
      "Epoch 2/10 => Train Loss: 0.4344, Train Acc: 0.8481, Validation Loss: 0.5506, Validation Acc: 0.8069\n"
     ]
    },
    {
     "name": "stderr",
     "output_type": "stream",
     "text": [
      "Training - Epoch 3: 100%|██████████| 290/290 [00:20<00:00, 14.20it/s, Train Loss=0.193]\n",
      "Validation - Epoch 3: 100%|██████████| 73/73 [00:02<00:00, 27.01it/s, Validation Loss=0.627]\n"
     ]
    },
    {
     "name": "stdout",
     "output_type": "stream",
     "text": [
      "Epoch 3/10 => Train Loss: 0.1928, Train Acc: 0.9422, Validation Loss: 0.6271, Validation Acc: 0.8000\n"
     ]
    },
    {
     "name": "stderr",
     "output_type": "stream",
     "text": [
      "Training - Epoch 4: 100%|██████████| 290/290 [00:20<00:00, 14.22it/s, Train Loss=0.109] \n",
      "Validation - Epoch 4: 100%|██████████| 73/73 [00:02<00:00, 26.96it/s, Validation Loss=0.713]\n"
     ]
    },
    {
     "name": "stdout",
     "output_type": "stream",
     "text": [
      "Epoch 4/10 => Train Loss: 0.1090, Train Acc: 0.9646, Validation Loss: 0.7131, Validation Acc: 0.7724\n",
      "Early stopping at epoch 4 based on validation loss.\n",
      "\n",
      "Fold 2/5\n"
     ]
    },
    {
     "name": "stderr",
     "output_type": "stream",
     "text": [
      "Training - Epoch 1: 100%|██████████| 290/290 [00:36<00:00,  7.99it/s, Train Loss=0.917]\n",
      "Validation - Epoch 1: 100%|██████████| 73/73 [00:01<00:00, 52.51it/s, Validation Loss=0.577]\n"
     ]
    },
    {
     "name": "stdout",
     "output_type": "stream",
     "text": [
      "Epoch 1/10 => Train Loss: 0.9166, Train Acc: 0.5660, Validation Loss: 0.5770, Validation Acc: 0.7724\n",
      "Early stopping at epoch 1 based on validation loss.\n",
      "\n",
      "Fold 3/5\n"
     ]
    },
    {
     "name": "stderr",
     "output_type": "stream",
     "text": [
      "Training - Epoch 1: 100%|██████████| 290/290 [00:20<00:00, 14.24it/s, Train Loss=0.914]\n",
      "Validation - Epoch 1: 100%|██████████| 73/73 [00:01<00:00, 37.46it/s, Validation Loss=0.626]\n"
     ]
    },
    {
     "name": "stdout",
     "output_type": "stream",
     "text": [
      "Epoch 1/10 => Train Loss: 0.9135, Train Acc: 0.5612, Validation Loss: 0.6260, Validation Acc: 0.7862\n",
      "Early stopping at epoch 1 based on validation loss.\n",
      "\n",
      "Fold 4/5\n"
     ]
    },
    {
     "name": "stderr",
     "output_type": "stream",
     "text": [
      "Training - Epoch 1: 100%|██████████| 290/290 [00:36<00:00,  7.99it/s, Train Loss=0.86] \n",
      "Validation - Epoch 1: 100%|██████████| 73/73 [00:01<00:00, 58.57it/s, Validation Loss=0.507]\n"
     ]
    },
    {
     "name": "stdout",
     "output_type": "stream",
     "text": [
      "Epoch 1/10 => Train Loss: 0.8601, Train Acc: 0.6026, Validation Loss: 0.5067, Validation Acc: 0.8241\n"
     ]
    },
    {
     "name": "stderr",
     "output_type": "stream",
     "text": [
      "Training - Epoch 2: 100%|██████████| 290/290 [00:36<00:00,  7.99it/s, Train Loss=0.403]\n",
      "Validation - Epoch 2: 100%|██████████| 73/73 [00:01<00:00, 58.25it/s, Validation Loss=0.573]\n"
     ]
    },
    {
     "name": "stdout",
     "output_type": "stream",
     "text": [
      "Epoch 2/10 => Train Loss: 0.4030, Train Acc: 0.8603, Validation Loss: 0.5730, Validation Acc: 0.8172\n"
     ]
    },
    {
     "name": "stderr",
     "output_type": "stream",
     "text": [
      "Training - Epoch 3: 100%|██████████| 290/290 [00:36<00:00,  7.99it/s, Train Loss=0.199]\n",
      "Validation - Epoch 3: 100%|██████████| 73/73 [00:01<00:00, 57.33it/s, Validation Loss=0.621]\n"
     ]
    },
    {
     "name": "stdout",
     "output_type": "stream",
     "text": [
      "Epoch 3/10 => Train Loss: 0.1992, Train Acc: 0.9362, Validation Loss: 0.6212, Validation Acc: 0.7897\n"
     ]
    },
    {
     "name": "stderr",
     "output_type": "stream",
     "text": [
      "Training - Epoch 4: 100%|██████████| 290/290 [00:36<00:00,  7.99it/s, Train Loss=0.126]\n",
      "Validation - Epoch 4: 100%|██████████| 73/73 [00:01<00:00, 58.17it/s, Validation Loss=0.837]\n"
     ]
    },
    {
     "name": "stdout",
     "output_type": "stream",
     "text": [
      "Epoch 4/10 => Train Loss: 0.1256, Train Acc: 0.9638, Validation Loss: 0.8371, Validation Acc: 0.7828\n",
      "Early stopping at epoch 4 based on validation loss.\n",
      "\n",
      "Fold 5/5\n"
     ]
    },
    {
     "name": "stderr",
     "output_type": "stream",
     "text": [
      "Training - Epoch 1: 100%|██████████| 290/290 [00:36<00:00,  7.99it/s, Train Loss=0.909]\n",
      "Validation - Epoch 1: 100%|██████████| 73/73 [00:01<00:00, 58.60it/s, Validation Loss=0.622]"
     ]
    },
    {
     "name": "stdout",
     "output_type": "stream",
     "text": [
      "Epoch 1/10 => Train Loss: 0.9090, Train Acc: 0.5724, Validation Loss: 0.6222, Validation Acc: 0.7690\n",
      "Early stopping at epoch 1 based on validation loss.\n",
      "\n",
      "Average Performance Across 5 Folds => Final Avg Train Acc: 0.7722, Final Avg Validation Acc: 0.7920\n"
     ]
    },
    {
     "name": "stderr",
     "output_type": "stream",
     "text": [
      "\n"
     ]
    }
   ],
   "source": [
    "\n",
    "for fold, (train_idx, test_idx) in enumerate(skf.split(df['Comments'], df['Sentiment'])):\n",
    "    print(f\"\\nFold {fold + 1}/{num_splits}\")\n",
    "\n",
    "    # Split data into training, validation, and testing sets\n",
    "    train_texts, test_texts = df['Comments'].iloc[train_idx], df['Comments'].iloc[test_idx]\n",
    "    train_labels, test_labels = df['Sentiment'].iloc[train_idx], df['Sentiment'].iloc[test_idx]\n",
    "\n",
    "    # Use another split for validation within the training set\n",
    "    train_idx, val_idx = next(skf.split(train_texts, train_labels))\n",
    "\n",
    "    train_texts, val_texts = train_texts.iloc[train_idx], train_texts.iloc[val_idx]\n",
    "    train_labels, val_labels = train_labels.iloc[train_idx], train_labels.iloc[val_idx]\n",
    "\n",
    "    # Tokenization and formatting for BERT\n",
    "    train_encodings = tokenizer(list(train_texts), truncation=True, padding=True, max_length=256, return_tensors='pt')\n",
    "    val_encodings = tokenizer(list(val_texts), truncation=True, padding=True, max_length=256, return_tensors='pt')\n",
    "    test_encodings = tokenizer(list(test_texts), truncation=True, padding=True, max_length=256, return_tensors='pt')\n",
    "\n",
    "    # Convert labels to tensor\n",
    "    train_labels = torch.tensor(train_labels.values, dtype=torch.long).to(device)\n",
    "    val_labels = torch.tensor(val_labels.values, dtype=torch.long).to(device)\n",
    "    test_labels = torch.tensor(test_labels.values, dtype=torch.long).to(device)\n",
    "\n",
    "    # Move data to GPU\n",
    "    train_encodings = {key: value.to(device) for key, value in train_encodings.items()}\n",
    "    val_encodings = {key: value.to(device) for key, value in val_encodings.items()}\n",
    "    test_encodings = {key: value.to(device) for key, value in test_encodings.items()}\n",
    "\n",
    "    train_dataset = TensorDataset(train_encodings['input_ids'], train_encodings['attention_mask'], train_labels)\n",
    "    val_dataset = TensorDataset(val_encodings['input_ids'], val_encodings['attention_mask'], val_labels)\n",
    "    test_dataset = TensorDataset(test_encodings['input_ids'], test_encodings['attention_mask'], test_labels)\n",
    "\n",
    "    train_loader = DataLoader(train_dataset, batch_size=4, shuffle=True)\n",
    "    val_loader = DataLoader(val_dataset, batch_size=4, shuffle=False)\n",
    "    test_loader = DataLoader(test_dataset, batch_size=4, shuffle=False)\n",
    "\n",
    "    # Append labels for class distribution\n",
    "    overall_train_labels.extend(train_labels.tolist())\n",
    "    overall_val_labels.extend(val_labels.tolist())\n",
    "    overall_test_labels.extend(test_labels.tolist())\n",
    "\n",
    "    # Training loop\n",
    "    model = initialize_bert_model()\n",
    "    model.to(device)\n",
    "    optimizer = AdamW(model.parameters(), lr=5e-5, weight_decay=0.01)\n",
    "\n",
    "    for epoch in range(num_epochs):\n",
    "        model.train()\n",
    "        train_loss = 0.0\n",
    "        correct_train = 0\n",
    "        total_train = 0\n",
    "\n",
    "        progress_bar = tqdm(enumerate(train_loader), total=len(train_loader), desc=f\"Training - Epoch {epoch + 1}\")\n",
    "        for step, batch in progress_bar:\n",
    "            optimizer.zero_grad()\n",
    "            inputs = {'input_ids': batch[0], 'attention_mask': batch[1], 'labels': batch[2]}\n",
    "            outputs = model(**inputs)\n",
    "            logits = outputs.logits\n",
    "            loss = criterion(logits, inputs['labels'])\n",
    "            loss.backward()\n",
    "            optimizer.step()\n",
    "\n",
    "            train_loss += loss.item()\n",
    "            _, predicted_train = torch.max(logits, 1)\n",
    "            total_train += inputs['labels'].size(0)\n",
    "            correct_train += (predicted_train == inputs['labels']).sum().item()\n",
    "\n",
    "            progress_bar.set_postfix({'Train Loss': train_loss / (step + 1)})\n",
    "\n",
    "        train_accuracy = correct_train / total_train\n",
    "        avg_train_loss = train_loss / (step + 1)\n",
    "        history['train_loss'].append(avg_train_loss)\n",
    "        history['train_acc'].append(train_accuracy)\n",
    "\n",
    "        # Validation loop\n",
    "        model.eval()\n",
    "        val_loss = 0.0\n",
    "        correct_val = 0\n",
    "        total_val = 0\n",
    "\n",
    "        progress_bar = tqdm(enumerate(val_loader), total=len(val_loader), desc=f\"Validation - Epoch {epoch + 1}\")\n",
    "        with torch.no_grad():\n",
    "            for step, batch in progress_bar:\n",
    "                inputs = {'input_ids': batch[0], 'attention_mask': batch[1], 'labels': batch[2]}\n",
    "                outputs = model(**inputs)\n",
    "                logits = outputs.logits\n",
    "                loss = criterion(logits, inputs['labels'])\n",
    "\n",
    "                val_loss += loss.item()\n",
    "                _, predicted_val = torch.max(logits, 1)\n",
    "                total_val += inputs['labels'].size(0)\n",
    "                correct_val += (predicted_val == inputs['labels']).sum().item()\n",
    "\n",
    "                progress_bar.set_postfix({'Validation Loss': val_loss / (step + 1)})\n",
    "\n",
    "        val_accuracy = correct_val / total_val\n",
    "        avg_val_loss = val_loss / len(val_loader)\n",
    "        history['val_loss'].append(avg_val_loss)\n",
    "        history['val_acc'].append(val_accuracy)\n",
    "\n",
    "        print(f\"Epoch {epoch + 1}/{num_epochs} => \"\n",
    "              f\"Train Loss: {avg_train_loss:.4f}, Train Acc: {train_accuracy:.4f}, \"\n",
    "              f\"Validation Loss: {avg_val_loss:.4f}, Validation Acc: {val_accuracy:.4f}\")\n",
    "\n",
    "        # Early stopping\n",
    "        if avg_val_loss < early_stopping['best_loss']:\n",
    "            early_stopping['best_loss'] = avg_val_loss\n",
    "            early_stopping['epoch'] = epoch\n",
    "            early_stopping['counter'] = 0\n",
    "        else:\n",
    "            early_stopping['counter'] += 1\n",
    "            if early_stopping['counter'] >= early_stopping['patience']:\n",
    "                print(f\"Early stopping at epoch {epoch + 1} based on validation loss.\")\n",
    "                break\n",
    "\n",
    "# Print average performance across all folds\n",
    "avg_train_acc = sum(history['train_acc']) / len(history['train_acc'])\n",
    "avg_val_acc = sum(history['val_acc']) / len(history['val_acc'])\n",
    "print(f\"\\nAverage Performance Across {num_splits} Folds => \"\n",
    "      f\"Final Avg Train Acc: {avg_train_acc:.4f}, Final Avg Validation Acc: {avg_val_acc:.4f}\")"
   ]
  },
  {
   "cell_type": "code",
   "execution_count": 112,
   "metadata": {
    "execution": {
     "iopub.execute_input": "2024-01-11T23:29:38.075619Z",
     "iopub.status.busy": "2024-01-11T23:29:38.074648Z",
     "iopub.status.idle": "2024-01-11T23:29:39.841231Z",
     "shell.execute_reply": "2024-01-11T23:29:39.840180Z",
     "shell.execute_reply.started": "2024-01-11T23:29:38.075581Z"
    }
   },
   "outputs": [
    {
     "name": "stderr",
     "output_type": "stream",
     "text": [
      "Testing: 100%|██████████| 91/91 [00:01<00:00, 52.04it/s, Test Loss=0.561]"
     ]
    },
    {
     "name": "stdout",
     "output_type": "stream",
     "text": [
      "Test Loss: 0.5614, Test Acc: 0.7873\n"
     ]
    },
    {
     "name": "stderr",
     "output_type": "stream",
     "text": [
      "\n"
     ]
    }
   ],
   "source": [
    "# After training, evaluate on the test set\n",
    "model.eval()\n",
    "test_loss = 0.0\n",
    "correct_test = 0\n",
    "total_test = 0\n",
    "all_predictions = []\n",
    "all_targets = []\n",
    "\n",
    "progress_bar = tqdm(enumerate(test_loader), total=len(test_loader), desc=f\"Testing\")\n",
    "with torch.no_grad():\n",
    "    for step, batch in progress_bar:\n",
    "        inputs = {'input_ids': batch[0], 'attention_mask': batch[1], 'labels': batch[2]}\n",
    "        outputs = model(**inputs)\n",
    "        logits = outputs.logits\n",
    "        loss = criterion(logits, inputs['labels'])\n",
    "\n",
    "        test_loss += loss.item()\n",
    "        _, predicted_test = torch.max(logits, 1)\n",
    "        total_test += inputs['labels'].size(0)\n",
    "        correct_test += (predicted_test == inputs['labels']).sum().item()\n",
    "\n",
    "        all_predictions.extend(predicted_test.cpu().numpy())\n",
    "        all_targets.extend(inputs['labels'].cpu().numpy())\n",
    "\n",
    "        progress_bar.set_postfix({'Test Loss': test_loss / (step + 1)})\n",
    "\n",
    "test_accuracy = correct_test / total_test\n",
    "avg_test_loss = test_loss / len(test_loader)\n",
    "history['test_loss'].append(avg_test_loss)\n",
    "history['test_acc'].append(test_accuracy)\n",
    "\n",
    "print(f\"Test Loss: {avg_test_loss:.4f}, Test Acc: {test_accuracy:.4f}\")\n"
   ]
  },
  {
   "cell_type": "code",
   "execution_count": 113,
   "metadata": {
    "execution": {
     "iopub.execute_input": "2024-01-11T23:29:42.169830Z",
     "iopub.status.busy": "2024-01-11T23:29:42.169441Z",
     "iopub.status.idle": "2024-01-11T23:29:42.980180Z",
     "shell.execute_reply": "2024-01-11T23:29:42.979124Z",
     "shell.execute_reply.started": "2024-01-11T23:29:42.169798Z"
    }
   },
   "outputs": [
    {
     "data": {
      "image/png": "[encoded data removed]",
      "text/plain": [
       "<Figure size 1200x600 with 2 Axes>"
      ]
     },
     "metadata": {},
     "output_type": "display_data"
    }
   ],
   "source": [
    "# Plotting the training and validation loss\n",
    "plt.figure(figsize=(12, 6))\n",
    "\n",
    "# Loss plot\n",
    "plt.subplot(1, 2, 1)\n",
    "plt.plot(history['train_loss'], label='Training Loss')\n",
    "plt.plot(history['val_loss'], label='Validation Loss')\n",
    "plt.title('Training and Validation Loss')\n",
    "plt.xlabel('Epoch')\n",
    "plt.ylabel('Loss')\n",
    "plt.legend()\n",
    "\n",
    "# Accuracy plot\n",
    "plt.subplot(1, 2, 2)\n",
    "plt.plot(history['train_acc'], label='Training Accuracy')\n",
    "plt.plot(history['val_acc'], label='Validation Accuracy')\n",
    "plt.title('Training and Validation Accuracy')\n",
    "plt.xlabel('Epoch')\n",
    "plt.ylabel('Accuracy')\n",
    "plt.legend()\n",
    "\n",
    "plt.tight_layout()\n",
    "plt.show()\n"
   ]
  },
  {
   "cell_type": "code",
   "execution_count": 115,
   "metadata": {
    "execution": {
     "iopub.execute_input": "2024-01-11T23:30:04.414480Z",
     "iopub.status.busy": "2024-01-11T23:30:04.414092Z",
     "iopub.status.idle": "2024-01-11T23:30:04.771988Z",
     "shell.execute_reply": "2024-01-11T23:30:04.770892Z",
     "shell.execute_reply.started": "2024-01-11T23:30:04.414447Z"
    }
   },
   "outputs": [
    {
     "data": {
      "image/png": "[encoded data removed]",
      "text/plain": [
       "<Figure size 800x600 with 2 Axes>"
      ]
     },
     "metadata": {},
     "output_type": "display_data"
    }
   ],
   "source": [
    "# Confusion Matrix\n",
    "conf_matrix = confusion_matrix(all_targets, all_predictions)\n",
    "plt.figure(figsize=(8, 6))\n",
    "sns.heatmap(conf_matrix, annot=True, fmt='d', cmap='Blues', xticklabels=label_mapping.keys(), yticklabels=label_mapping.keys())\n",
    "plt.title('Confusion Matrix')\n",
    "plt.xlabel('Predicted')\n",
    "plt.ylabel('True')\n",
    "plt.show()"
   ]
  },
  {
   "cell_type": "code",
   "execution_count": 116,
   "metadata": {
    "execution": {
     "iopub.execute_input": "2024-01-11T23:30:09.037961Z",
     "iopub.status.busy": "2024-01-11T23:30:09.037478Z",
     "iopub.status.idle": "2024-01-11T23:30:09.052940Z",
     "shell.execute_reply": "2024-01-11T23:30:09.051743Z",
     "shell.execute_reply.started": "2024-01-11T23:30:09.037904Z"
    }
   },
   "outputs": [
    {
     "name": "stdout",
     "output_type": "stream",
     "text": [
      "\n",
      "Overall Class Distribution:\n",
      "Train Class Distribution:\n",
      "0    2730\n",
      "1    2705\n",
      "2    2681\n",
      "Name: count, dtype: int64\n",
      "\n",
      "Test Class Distribution:\n",
      "0    854\n",
      "1    846\n",
      "2    838\n",
      "Name: count, dtype: int64\n"
     ]
    }
   ],
   "source": [
    "# Print overall class distribution after all folds\n",
    "print(\"\\nOverall Class Distribution:\")\n",
    "overall_train_distribution = pd.Series(overall_train_labels).value_counts()\n",
    "overall_test_distribution = pd.Series(overall_test_labels).value_counts()\n",
    "\n",
    "print(\"Train Class Distribution:\")\n",
    "print(overall_train_distribution)\n",
    "\n",
    "\n",
    "print(\"\\nTest Class Distribution:\")\n",
    "print(overall_test_distribution)"
   ]
  },
  {
   "cell_type": "markdown",
   "metadata": {},
   "source": [
    "# Comparative Analysis"
   ]
  },
  {
   "cell_type": "markdown",
   "metadata": {},
   "source": [
    "• BERT achieved the highest accuracy score among the classifiers, with a value of 0.78.\n",
    "\n",
    "• SVM follows closely with an accuracy score of 0.71.\n",
    "\n",
    "• The Voting Classifier lags behind with an accuracy score of 0.69."
   ]
  },
  {
   "cell_type": "markdown",
   "metadata": {},
   "source": [
    "Based on confusion Matrix:\n",
    "\n",
    "BERT Performance:\n",
    "\n",
    "• BERT exhibits better performance in accurately predicting all three classes\n",
    "(Negative, Neutral, Positive) compared to SVM.\n",
    "\n",
    "• BERT shows higher counts in the diagonal elements, indicating strong predictive\n",
    "capability across all classes.\n",
    "\n",
    "SVM Performance:\n",
    "\n",
    "• SVM demonstrates reasonable performance, but it appears to struggle more in\n",
    "distinguishing between classes, as evidenced by higher off-diagonal counts in the\n",
    "confusion matrix.\n",
    "\n",
    "Recommendation:\n",
    "\n",
    "• Based on the confusion matrices, BERT seems to be the more reliable model,\n",
    "achieving better accuracy in classifying instances across all sentiment classes"
   ]
  }
 ],
 "metadata": {
  "kaggle": {
   "accelerator": "gpu",
   "dataSources": [
    {
     "datasetId": 4293145,
     "sourceId": 7386132,
     "sourceType": "datasetVersion"
    },
    {
     "datasetId": 4293157,
     "sourceId": 7386148,
     "sourceType": "datasetVersion"
    }
   ],
   "dockerImageVersionId": 30627,
   "isGpuEnabled": true,
   "isInternetEnabled": true,
   "language": "python",
   "sourceType": "notebook"
  },
  "kernelspec": {
   "display_name": "Python 3 (ipykernel)",
   "language": "python",
   "name": "python3"
  },
  "language_info": {
   "codemirror_mode": {
    "name": "ipython",
    "version": 3
   },
   "file_extension": ".py",
   "mimetype": "text/x-python",
   "name": "python",
   "nbconvert_exporter": "python",
   "pygments_lexer": "ipython3",
   "version": "3.9.13"
  }
 },
 "nbformat": 4,
 "nbformat_minor": 4
}
